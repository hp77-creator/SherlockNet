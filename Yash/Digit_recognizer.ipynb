{
  "nbformat": 4,
  "nbformat_minor": 0,
  "metadata": {
    "colab": {
      "name": "Digit_recognizer.ipynb",
      "provenance": [],
      "collapsed_sections": []
    },
    "kernelspec": {
      "name": "python3",
      "display_name": "Python 3"
    },
    "language_info": {
      "name": "python"
    }
  },
  "cells": [
    {
      "cell_type": "code",
      "metadata": {
        "colab": {
          "base_uri": "https://localhost:8080/"
        },
        "id": "9QDkoi8v6fsY",
        "outputId": "14d16f46-5e4f-4e0a-f203-9f1816318ffd"
      },
      "source": [
        "! pip install kaggle"
      ],
      "execution_count": null,
      "outputs": [
        {
          "output_type": "stream",
          "name": "stdout",
          "text": [
            "Requirement already satisfied: kaggle in /usr/local/lib/python3.7/dist-packages (1.5.12)\n",
            "Requirement already satisfied: requests in /usr/local/lib/python3.7/dist-packages (from kaggle) (2.23.0)\n",
            "Requirement already satisfied: urllib3 in /usr/local/lib/python3.7/dist-packages (from kaggle) (1.24.3)\n",
            "Requirement already satisfied: tqdm in /usr/local/lib/python3.7/dist-packages (from kaggle) (4.62.3)\n",
            "Requirement already satisfied: six>=1.10 in /usr/local/lib/python3.7/dist-packages (from kaggle) (1.15.0)\n",
            "Requirement already satisfied: certifi in /usr/local/lib/python3.7/dist-packages (from kaggle) (2021.10.8)\n",
            "Requirement already satisfied: python-slugify in /usr/local/lib/python3.7/dist-packages (from kaggle) (5.0.2)\n",
            "Requirement already satisfied: python-dateutil in /usr/local/lib/python3.7/dist-packages (from kaggle) (2.8.2)\n",
            "Requirement already satisfied: text-unidecode>=1.3 in /usr/local/lib/python3.7/dist-packages (from python-slugify->kaggle) (1.3)\n",
            "Requirement already satisfied: idna<3,>=2.5 in /usr/local/lib/python3.7/dist-packages (from requests->kaggle) (2.10)\n",
            "Requirement already satisfied: chardet<4,>=3.0.2 in /usr/local/lib/python3.7/dist-packages (from requests->kaggle) (3.0.4)\n"
          ]
        }
      ]
    },
    {
      "cell_type": "code",
      "metadata": {
        "id": "aYUp4ULe7zvO"
      },
      "source": [
        "! mkdir ~/.kaggle"
      ],
      "execution_count": null,
      "outputs": []
    },
    {
      "cell_type": "code",
      "metadata": {
        "id": "UJ-rhSOEBhsl"
      },
      "source": [
        "! cp kaggle.json ~/.kaggle/"
      ],
      "execution_count": null,
      "outputs": []
    },
    {
      "cell_type": "code",
      "metadata": {
        "id": "-9SyQ6PaBlwh"
      },
      "source": [
        "! chmod 600 ~/.kaggle/kaggle.json"
      ],
      "execution_count": null,
      "outputs": []
    },
    {
      "cell_type": "code",
      "metadata": {
        "colab": {
          "base_uri": "https://localhost:8080/"
        },
        "id": "uMdhhl4KBqDV",
        "outputId": "36ccec59-43fe-4bbf-a68e-48bd95e553f3"
      },
      "source": [
        "! kaggle competitions download -c digit-recognizer"
      ],
      "execution_count": null,
      "outputs": [
        {
          "output_type": "stream",
          "name": "stdout",
          "text": [
            "Warning: Looks like you're using an outdated API Version, please consider updating (server 1.5.12 / client 1.5.4)\n",
            "Downloading test.csv.zip to /content\n",
            "  0% 0.00/6.09M [00:00<?, ?B/s]\n",
            "100% 6.09M/6.09M [00:00<00:00, 56.3MB/s]\n",
            "Downloading train.csv.zip to /content\n",
            " 55% 5.00M/9.16M [00:00<00:00, 35.7MB/s]\n",
            "100% 9.16M/9.16M [00:00<00:00, 44.8MB/s]\n",
            "Downloading sample_submission.csv to /content\n",
            "  0% 0.00/235k [00:00<?, ?B/s]\n",
            "100% 235k/235k [00:00<00:00, 68.8MB/s]\n"
          ]
        }
      ]
    },
    {
      "cell_type": "code",
      "metadata": {
        "colab": {
          "base_uri": "https://localhost:8080/"
        },
        "id": "if7v2SH1CW_9",
        "outputId": "363ee028-5dec-4dcd-89a4-64572a02788e"
      },
      "source": [
        "! unzip 'train.csv.zip'\n",
        "! unzip 'test.csv.zip'"
      ],
      "execution_count": null,
      "outputs": [
        {
          "output_type": "stream",
          "name": "stdout",
          "text": [
            "Archive:  train.csv.zip\n",
            "  inflating: train.csv               \n",
            "Archive:  test.csv.zip\n",
            "  inflating: test.csv                \n"
          ]
        }
      ]
    },
    {
      "cell_type": "code",
      "metadata": {
        "id": "OjYjfYgvDLpV"
      },
      "source": [
        "import torch \n",
        "import torchvision\n",
        "import pandas as pd\n",
        "import numpy as np\n",
        "import matplotlib.pyplot as plt\n",
        "import torch.nn as nn\n",
        "import torch.optim\n",
        "from sklearn.model_selection import train_test_split\n",
        "from torch.utils.data import DataLoader, TensorDataset\n",
        "from torchvision.transforms import ToTensor, Lambda\n",
        "from torchvision import datasets, transforms"
      ],
      "execution_count": null,
      "outputs": []
    },
    {
      "cell_type": "code",
      "metadata": {
        "id": "RLjxA7vVFByM"
      },
      "source": [
        "train_ds = pd.read_csv(\"/content/train.csv\")\n",
        "test_ds = pd.read_csv(\"/content/test.csv\")"
      ],
      "execution_count": null,
      "outputs": []
    },
    {
      "cell_type": "code",
      "metadata": {
        "id": "ZwDvmCLXFfP7"
      },
      "source": [
        "train_labels = train_ds['label'].values\n",
        "train_images = (train_ds.iloc[:,1:].values).astype('float32')\n",
        "test_images = (test_ds.iloc[:,:].values).astype('float32')\n",
        "train_images, val_images, train_labels, val_labels = train_test_split(train_images, train_labels,\n",
        "                                                                     stratify=train_labels, random_state=123,\n",
        "                                                                     test_size=0.20)"
      ],
      "execution_count": null,
      "outputs": []
    },
    {
      "cell_type": "code",
      "metadata": {
        "id": "Dn4CP_xoaD1D"
      },
      "source": [
        "train_images = train_images.reshape(train_images.shape[0], 1, 28, 28)\n",
        "val_images = val_images.reshape(val_images.shape[0], 1, 28, 28)\n",
        "test_images = test_images.reshape(test_images.shape[0], 1, 28, 28)"
      ],
      "execution_count": null,
      "outputs": []
    },
    {
      "cell_type": "code",
      "metadata": {
        "colab": {
          "base_uri": "https://localhost:8080/"
        },
        "id": "JFOxqyygpsX_",
        "outputId": "03920e49-8915-46a8-ce6c-935347bf3a18"
      },
      "source": [
        "train_images.shape"
      ],
      "execution_count": null,
      "outputs": [
        {
          "output_type": "execute_result",
          "data": {
            "text/plain": [
              "(33600, 1, 28, 28)"
            ]
          },
          "metadata": {},
          "execution_count": 11
        }
      ]
    },
    {
      "cell_type": "code",
      "metadata": {
        "colab": {
          "base_uri": "https://localhost:8080/",
          "height": 162
        },
        "id": "oDAGXTAvKsWM",
        "outputId": "f95ad25a-3e03-4e3b-cad9-3a304f66c387"
      },
      "source": [
        "\n",
        "for i in range(1, 4):\n",
        "    plt.subplot(1, 3, i)\n",
        "    plt.imshow(train_images[i].squeeze(), cmap=plt.get_cmap('gray'))\n",
        "    plt.title(train_labels[i])"
      ],
      "execution_count": null,
      "outputs": [
        {
          "output_type": "display_data",
          "data": {
            "image/png": "[encoded data removed]",
            "text/plain": [
              "<Figure size 432x288 with 3 Axes>"
            ]
          },
          "metadata": {
            "needs_background": "light"
          }
        }
      ]
    },
    {
      "cell_type": "code",
      "metadata": {
        "colab": {
          "base_uri": "https://localhost:8080/",
          "height": 149
        },
        "id": "iZ3H1OAiK9-A",
        "outputId": "1ca59ef1-8c15-4314-dcc7-df0b8f15724f"
      },
      "source": [
        "for i in range(1, 4):\n",
        "    plt.subplot(1, 3, i)\n",
        "    plt.imshow(test_images[i].squeeze(), cmap=plt.get_cmap('gray'))"
      ],
      "execution_count": null,
      "outputs": [
        {
          "output_type": "display_data",
          "data": {
            "image/png": "[encoded data removed]",
            "text/plain": [
              "<Figure size 432x288 with 3 Axes>"
            ]
          },
          "metadata": {
            "needs_background": "light"
          }
        }
      ]
    },
    {
      "cell_type": "code",
      "metadata": {
        "id": "T3Ut3ucDNzHN"
      },
      "source": [
        "train_images_tensor = torch.Tensor(train_images)/255\n",
        "val_images_tensor = torch.Tensor(val_images)/255\n",
        "test_images_tensor = torch.Tensor(test_images)\n",
        "train_labels_tensor = torch.Tensor(train_labels)\n",
        "train_labels_tensor = train_labels_tensor.type(torch.LongTensor)\n",
        "val_labels_tensor = torch.Tensor(val_labels)\n",
        "val_labels_tensor = val_labels_tensor.type(torch.LongTensor)\n",
        "train_tensor = TensorDataset(train_images_tensor, train_labels_tensor)\n",
        "val_tensor = TensorDataset(val_images_tensor, val_labels_tensor)"
      ],
      "execution_count": null,
      "outputs": []
    },
    {
      "cell_type": "code",
      "metadata": {
        "id": "EnVMxyZmO0H4"
      },
      "source": [
        "train_dataloader = DataLoader(train_tensor, batch_size=64, shuffle=True)\n",
        "val_dataloader = DataLoader(val_tensor, batch_size=64, shuffle=True)\n",
        "test_dataloader = DataLoader(test_images_tensor, batch_size=64, shuffle=True)"
      ],
      "execution_count": null,
      "outputs": []
    },
    {
      "cell_type": "code",
      "metadata": {
        "colab": {
          "base_uri": "https://localhost:8080/"
        },
        "id": "_vnDKGz-0bDc",
        "outputId": "17063c32-0c75-4e31-cfc6-dfcca048d0c0"
      },
      "source": [
        "for X, y in train_dataloader:\n",
        "    print(\"Shape of X [N, C, H, W]: \", X.shape)\n",
        "    print(\"Shape of y: \", y.shape, y.dtype)\n",
        "    break"
      ],
      "execution_count": null,
      "outputs": [
        {
          "output_type": "stream",
          "name": "stdout",
          "text": [
            "Shape of X [N, C, H, W]:  torch.Size([64, 1, 28, 28])\n",
            "Shape of y:  torch.Size([64]) torch.int64\n"
          ]
        }
      ]
    },
    {
      "cell_type": "code",
      "metadata": {
        "id": "lUVfFSn1oNXq"
      },
      "source": [
        "class NeuralNetwork(nn.Module):\n",
        "    def __init__(self):\n",
        "        super(NeuralNetwork, self).__init__()\n",
        "        self.flatten = nn.Flatten()\n",
        "        self.linear_relu_stack = nn.Sequential(\n",
        "            nn.Linear(28*28, 512),\n",
        "            nn.ReLU(),\n",
        "            nn.Linear(512, 512),\n",
        "            nn.ReLU(),\n",
        "            nn.Linear(512, 10),\n",
        "            nn.ReLU()\n",
        "        )\n",
        "    def forward(self, x):\n",
        "        x = self.flatten(x)\n",
        "        logits = self.linear_relu_stack(x)\n",
        "        return logits\n",
        "\n",
        "model = NeuralNetwork()"
      ],
      "execution_count": null,
      "outputs": []
    },
    {
      "cell_type": "code",
      "metadata": {
        "colab": {
          "base_uri": "https://localhost:8080/"
        },
        "id": "FP_Wel6YuDCg",
        "outputId": "409ace9b-acdf-400c-d97a-a4becc66698a"
      },
      "source": [
        "print(model)"
      ],
      "execution_count": null,
      "outputs": [
        {
          "output_type": "stream",
          "name": "stdout",
          "text": [
            "NeuralNetwork(\n",
            "  (flatten): Flatten(start_dim=1, end_dim=-1)\n",
            "  (linear_relu_stack): Sequential(\n",
            "    (0): Linear(in_features=784, out_features=512, bias=True)\n",
            "    (1): ReLU()\n",
            "    (2): Linear(in_features=512, out_features=512, bias=True)\n",
            "    (3): ReLU()\n",
            "    (4): Linear(in_features=512, out_features=10, bias=True)\n",
            "    (5): ReLU()\n",
            "  )\n",
            ")\n"
          ]
        }
      ]
    },
    {
      "cell_type": "code",
      "metadata": {
        "id": "lOPYT_uOulY4"
      },
      "source": [
        "loss_fn = nn.CrossEntropyLoss()\n",
        "learning_rate = 0.001\n",
        "optimizer = torch.optim.Adam(model.parameters(), lr=learning_rate)"
      ],
      "execution_count": null,
      "outputs": []
    },
    {
      "cell_type": "code",
      "metadata": {
        "id": "HUJM-D0jxZvb"
      },
      "source": [
        "def train(dataloader, model, loss_fn, optimizer):\n",
        "  size = len(dataloader.dataset)\n",
        "  correct = 0\n",
        "  for batch, (X, y) in enumerate(dataloader):\n",
        "\n",
        "    pred = model(X)\n",
        "    loss = loss_fn(pred, y)\n",
        "\n",
        "    optimizer.zero_grad()\n",
        "    loss.backward()\n",
        "    optimizer.step()\n",
        "\n",
        "    if batch % 100 == 0:\n",
        "      loss, current = loss.item(), batch * len(X)\n",
        "      print(f\"loss: {loss:>7f}  [{current:>5d}/{size:>5d}]\")\n",
        "\n",
        "def test(dataloader, model):\n",
        "  size = len(dataloader.dataset)\n",
        "  test_loss, correct = 0, 0\n",
        "  with torch.no_grad():\n",
        "    for X, y in dataloader:\n",
        "      pred = model(X)\n",
        "      test_loss += loss_fn(pred, y).item()\n",
        "      correct += (pred.argmax(1) == y).type(torch.float).sum().item()\n",
        "    test_loss /= size\n",
        "    correct /= size\n",
        "    print(f\"Test Error: \\n Accuracy: {(100*correct):>0.1f}%, Avg loss: {test_loss:>8f} \\n\")"
      ],
      "execution_count": null,
      "outputs": []
    },
    {
      "cell_type": "code",
      "metadata": {
        "colab": {
          "base_uri": "https://localhost:8080/"
        },
        "id": "4a7ZdMesXMn7",
        "outputId": "1e501ee3-0cf2-4dfd-fa77-bc0f15dc91c0"
      },
      "source": [
        "epochs = 15\n",
        "for t in range(epochs):\n",
        "    print(f\"Epoch {t+1}\\n-------------------------------\")\n",
        "    train(train_dataloader, model, loss_fn, optimizer)\n",
        "    test(val_dataloader, model)\n",
        "print(\"Done!\")"
      ],
      "execution_count": null,
      "outputs": [
        {
          "output_type": "stream",
          "name": "stdout",
          "text": [
            "Epoch 1\n",
            "-------------------------------\n",
            "loss: 0.000362  [    0/33600]\n",
            "loss: 0.000006  [ 6400/33600]\n",
            "loss: 0.001247  [12800/33600]\n",
            "loss: 0.000056  [19200/33600]\n",
            "loss: 0.000298  [25600/33600]\n",
            "loss: 0.005983  [32000/33600]\n",
            "Test Error: \n",
            " Accuracy: 97.9%, Avg loss: 0.002180 \n",
            "\n",
            "Epoch 2\n",
            "-------------------------------\n",
            "loss: 0.000096  [    0/33600]\n",
            "loss: 0.000078  [ 6400/33600]\n",
            "loss: 0.000089  [12800/33600]\n",
            "loss: 0.004195  [19200/33600]\n",
            "loss: 0.000327  [25600/33600]\n",
            "loss: 0.000019  [32000/33600]\n",
            "Test Error: \n",
            " Accuracy: 98.1%, Avg loss: 0.001859 \n",
            "\n",
            "Epoch 3\n",
            "-------------------------------\n",
            "loss: 0.000439  [    0/33600]\n",
            "loss: 0.083616  [ 6400/33600]\n",
            "loss: 0.000235  [12800/33600]\n",
            "loss: 0.000909  [19200/33600]\n",
            "loss: 0.136588  [25600/33600]\n",
            "loss: 0.001277  [32000/33600]\n",
            "Test Error: \n",
            " Accuracy: 97.4%, Avg loss: 0.002418 \n",
            "\n",
            "Epoch 4\n",
            "-------------------------------\n",
            "loss: 0.180443  [    0/33600]\n",
            "loss: 0.000011  [ 6400/33600]\n",
            "loss: 0.000017  [12800/33600]\n",
            "loss: 0.000016  [19200/33600]\n",
            "loss: 0.000015  [25600/33600]\n",
            "loss: 0.023967  [32000/33600]\n",
            "Test Error: \n",
            " Accuracy: 97.8%, Avg loss: 0.002123 \n",
            "\n",
            "Epoch 5\n",
            "-------------------------------\n",
            "loss: 0.001071  [    0/33600]\n",
            "loss: 0.000053  [ 6400/33600]\n",
            "loss: 0.000053  [12800/33600]\n",
            "loss: 0.105794  [19200/33600]\n",
            "loss: 0.003326  [25600/33600]\n",
            "loss: 0.001169  [32000/33600]\n",
            "Test Error: \n",
            " Accuracy: 97.6%, Avg loss: 0.002575 \n",
            "\n",
            "Epoch 6\n",
            "-------------------------------\n",
            "loss: 0.000000  [    0/33600]\n",
            "loss: 0.002066  [ 6400/33600]\n",
            "loss: 0.000025  [12800/33600]\n",
            "loss: 0.000047  [19200/33600]\n",
            "loss: 0.000006  [25600/33600]\n",
            "loss: 0.000080  [32000/33600]\n",
            "Test Error: \n",
            " Accuracy: 98.1%, Avg loss: 0.001924 \n",
            "\n",
            "Epoch 7\n",
            "-------------------------------\n",
            "loss: 0.000000  [    0/33600]\n",
            "loss: 0.000164  [ 6400/33600]\n",
            "loss: 0.000006  [12800/33600]\n",
            "loss: 0.000051  [19200/33600]\n",
            "loss: 0.000022  [25600/33600]\n",
            "loss: 0.000011  [32000/33600]\n",
            "Test Error: \n",
            " Accuracy: 97.7%, Avg loss: 0.002432 \n",
            "\n",
            "Epoch 8\n",
            "-------------------------------\n",
            "loss: 0.000083  [    0/33600]\n",
            "loss: 0.013254  [ 6400/33600]\n",
            "loss: 0.000075  [12800/33600]\n",
            "loss: 0.000023  [19200/33600]\n",
            "loss: 0.000046  [25600/33600]\n",
            "loss: 0.035721  [32000/33600]\n",
            "Test Error: \n",
            " Accuracy: 98.0%, Avg loss: 0.002426 \n",
            "\n",
            "Epoch 9\n",
            "-------------------------------\n",
            "loss: 0.002960  [    0/33600]\n",
            "loss: 0.001161  [ 6400/33600]\n",
            "loss: 0.000605  [12800/33600]\n",
            "loss: 0.000038  [19200/33600]\n",
            "loss: 0.000050  [25600/33600]\n",
            "loss: 0.000042  [32000/33600]\n",
            "Test Error: \n",
            " Accuracy: 97.7%, Avg loss: 0.002803 \n",
            "\n",
            "Epoch 10\n",
            "-------------------------------\n",
            "loss: 0.000384  [    0/33600]\n",
            "loss: 0.000002  [ 6400/33600]\n",
            "loss: 0.000012  [12800/33600]\n",
            "loss: 0.000899  [19200/33600]\n",
            "loss: 0.000670  [25600/33600]\n",
            "loss: 0.002543  [32000/33600]\n",
            "Test Error: \n",
            " Accuracy: 97.9%, Avg loss: 0.002285 \n",
            "\n",
            "Epoch 11\n",
            "-------------------------------\n",
            "loss: 0.000001  [    0/33600]\n",
            "loss: 0.000001  [ 6400/33600]\n",
            "loss: 0.073221  [12800/33600]\n",
            "loss: 0.000371  [19200/33600]\n",
            "loss: 0.000005  [25600/33600]\n",
            "loss: 0.003076  [32000/33600]\n",
            "Test Error: \n",
            " Accuracy: 97.7%, Avg loss: 0.002399 \n",
            "\n",
            "Epoch 12\n",
            "-------------------------------\n",
            "loss: 0.000017  [    0/33600]\n",
            "loss: 0.000003  [ 6400/33600]\n",
            "loss: 0.001791  [12800/33600]\n",
            "loss: 0.000122  [19200/33600]\n",
            "loss: 0.000008  [25600/33600]\n",
            "loss: 0.000006  [32000/33600]\n",
            "Test Error: \n",
            " Accuracy: 97.9%, Avg loss: 0.002265 \n",
            "\n",
            "Epoch 13\n",
            "-------------------------------\n",
            "loss: 0.000001  [    0/33600]\n",
            "loss: 0.000003  [ 6400/33600]\n",
            "loss: 0.000019  [12800/33600]\n",
            "loss: 0.000080  [19200/33600]\n",
            "loss: 0.000000  [25600/33600]\n",
            "loss: 0.000030  [32000/33600]\n",
            "Test Error: \n",
            " Accuracy: 98.0%, Avg loss: 0.002295 \n",
            "\n",
            "Epoch 14\n",
            "-------------------------------\n",
            "loss: 0.000005  [    0/33600]\n",
            "loss: 0.000520  [ 6400/33600]\n",
            "loss: 0.012904  [12800/33600]\n",
            "loss: 0.112356  [19200/33600]\n",
            "loss: 0.000089  [25600/33600]\n",
            "loss: 0.000323  [32000/33600]\n",
            "Test Error: \n",
            " Accuracy: 97.9%, Avg loss: 0.002270 \n",
            "\n",
            "Epoch 15\n",
            "-------------------------------\n",
            "loss: 0.000015  [    0/33600]\n",
            "loss: 0.000344  [ 6400/33600]\n",
            "loss: 0.000006  [12800/33600]\n",
            "loss: 0.000381  [19200/33600]\n",
            "loss: 0.005026  [25600/33600]\n",
            "loss: 0.000010  [32000/33600]\n",
            "Test Error: \n",
            " Accuracy: 97.8%, Avg loss: 0.002418 \n",
            "\n",
            "Done!\n"
          ]
        }
      ]
    },
    {
      "cell_type": "code",
      "metadata": {
        "id": "Z98QoXbMeDWi"
      },
      "source": [
        "submissions = pd.read_csv('sample_submission.csv',index_col='ImageId')\n",
        "df = pd.read_csv('test.csv')\n",
        "X = torch.tensor(np.array(df).reshape([28000,1,28,28]),dtype=torch.float)*(10)\n",
        "Y = model(X)\n",
        "Y = Y.argmax(dim=1)\n",
        "Y = Y.numpy()\n",
        "for i in range (28000):\n",
        "    submissions.iloc[i] = Y[i]\n",
        "submissions.to_csv('submission.csv')"
      ],
      "execution_count": null,
      "outputs": []
    },
    {
      "cell_type": "code",
      "source": [
        ""
      ],
      "metadata": {
        "id": "MoaoXz18sSWu"
      },
      "execution_count": null,
      "outputs": []
    }
  ]
}