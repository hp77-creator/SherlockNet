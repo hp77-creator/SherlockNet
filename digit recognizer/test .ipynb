{
 "cells": [
  {
   "cell_type": "code",
   "execution_count": 1,
   "id": "30648817",
   "metadata": {},
   "outputs": [],
   "source": [
    "import pandas as pd\n",
    "import numpy as np\n",
    "import torch"
   ]
  },
  {
   "cell_type": "code",
   "execution_count": 2,
   "id": "61749a49",
   "metadata": {},
   "outputs": [],
   "source": [
    "df = pd.read_csv('test.csv')"
   ]
  },
  {
   "cell_type": "code",
   "execution_count": 5,
   "id": "1dec8cb0",
   "metadata": {},
   "outputs": [
    {
     "name": "stdout",
     "output_type": "stream",
     "text": [
      "pixel0      0\n",
      "pixel1      0\n",
      "pixel2      0\n",
      "pixel3      0\n",
      "pixel4      0\n",
      "           ..\n",
      "pixel779    0\n",
      "pixel780    0\n",
      "pixel781    0\n",
      "pixel782    0\n",
      "pixel783    0\n",
      "Name: 1, Length: 784, dtype: int64\n"
     ]
    }
   ],
   "source": [
    "print(df.iloc[1])"
   ]
  },
  {
   "cell_type": "code",
   "execution_count": 3,
   "id": "1a1a31dd",
   "metadata": {},
   "outputs": [],
   "source": [
    "import torch\n",
    "from torch import nn"
   ]
  },
  {
   "cell_type": "code",
   "execution_count": 4,
   "id": "7d7c6d94",
   "metadata": {},
   "outputs": [],
   "source": [
    "class cnn(nn.Module):\n",
    "    def __init__(self,numChannels,classes):\n",
    "        super(cnn, self).__init__()\n",
    "        self.linear_relu_stack = nn.Sequential(\n",
    "            nn.Conv2d(in_channels=numChannels, out_channels=6,kernel_size=(5, 5),stride=(1,1),padding=0),\n",
    "            nn.ReLU(),\n",
    "            nn.MaxPool2d(kernel_size=(2, 2), stride=(1, 1),padding=1),\n",
    "            nn.Conv2d(in_channels=6, out_channels=6,kernel_size=(2, 2),stride=(2,2),padding=0),\n",
    "            nn.ReLU(),\n",
    "            nn.Conv2d(in_channels=6, out_channels=16,kernel_size=(5, 5),stride=(1,1),padding=0),\n",
    "            nn.ReLU(),\n",
    "            nn.MaxPool2d(kernel_size=(2, 2), stride=(1, 1),padding=1),\n",
    "            nn.Conv2d(in_channels=16, out_channels=16,kernel_size=(2, 2),stride=(2,2),padding=0),\n",
    "            nn.ReLU(),\n",
    "            nn.Flatten(),\n",
    "            nn.Linear(in_features=256, out_features=120),\n",
    "            nn.ReLU(),\n",
    "            nn.Linear(in_features=120, out_features=84),\n",
    "            nn.ReLU(),\n",
    "            nn.Linear(in_features=84, out_features=classes)\n",
    "        )\n",
    "\n",
    "    def forward(self, x):\n",
    "        logits = self.linear_relu_stack(x)\n",
    "        return logits"
   ]
  },
  {
   "cell_type": "code",
   "execution_count": 5,
   "id": "6acc969c",
   "metadata": {},
   "outputs": [
    {
     "data": {
      "text/plain": [
       "cnn(\n",
       "  (linear_relu_stack): Sequential(\n",
       "    (0): Conv2d(1, 6, kernel_size=(5, 5), stride=(1, 1))\n",
       "    (1): ReLU()\n",
       "    (2): MaxPool2d(kernel_size=(2, 2), stride=(1, 1), padding=1, dilation=1, ceil_mode=False)\n",
       "    (3): Conv2d(6, 6, kernel_size=(2, 2), stride=(2, 2))\n",
       "    (4): ReLU()\n",
       "    (5): Conv2d(6, 16, kernel_size=(5, 5), stride=(1, 1))\n",
       "    (6): ReLU()\n",
       "    (7): MaxPool2d(kernel_size=(2, 2), stride=(1, 1), padding=1, dilation=1, ceil_mode=False)\n",
       "    (8): Conv2d(16, 16, kernel_size=(2, 2), stride=(2, 2))\n",
       "    (9): ReLU()\n",
       "    (10): Flatten(start_dim=1, end_dim=-1)\n",
       "    (11): Linear(in_features=256, out_features=120, bias=True)\n",
       "    (12): ReLU()\n",
       "    (13): Linear(in_features=120, out_features=84, bias=True)\n",
       "    (14): ReLU()\n",
       "    (15): Linear(in_features=84, out_features=10, bias=True)\n",
       "  )\n",
       ")"
      ]
     },
     "execution_count": 5,
     "metadata": {},
     "output_type": "execute_result"
    }
   ],
   "source": [
    "PATH = \"cnn_model.pt\"\n",
    "model = cnn(1,10)\n",
    "model.load_state_dict(torch.load(PATH))\n",
    "model.eval()"
   ]
  },
  {
   "cell_type": "code",
   "execution_count": 61,
   "id": "2b8f8297",
   "metadata": {},
   "outputs": [],
   "source": [
    "def filtered_img (x):\n",
    "    x = x.reshape([28,28])\n",
    "    non_zero_places = []\n",
    "    binary = [0,1]\n",
    "    for i in range(28):\n",
    "        for j in range(28):\n",
    "            if x[i,j] > 0:\n",
    "                non_zero_places.append([i,j])\n",
    "    for i in range(len(non_zero_places)):\n",
    "        a = abs(non_zero_places[i][0] - non_zero_places[i-1][0])\n",
    "        c = abs(non_zero_places[i][1] - non_zero_places[i-1][1])\n",
    "        if i != len(non_zero_places)-1:\n",
    "            d = abs(non_zero_places[i][1] - non_zero_places[i+1][1])\n",
    "            b = abs(non_zero_places[i][0] - non_zero_places[i+1][0])\n",
    "        else :\n",
    "            b,d = 0,0\n",
    "        if ((a > 3)or(b > 3)or(c > 3)or(d > 3)):\n",
    "            x[non_zero_places[i][0],non_zero_places[i][1]] = 0\n",
    "    return x"
   ]
  },
  {
   "cell_type": "code",
   "execution_count": 30,
   "id": "fdf39bc9",
   "metadata": {},
   "outputs": [],
   "source": [
    "m = np.array(df.iloc[3]).reshape([28,28])\n",
    "m[11,1] = 0\n",
    "m[11,9] = 0"
   ]
  },
  {
   "cell_type": "code",
   "execution_count": 63,
   "id": "1c1c0c54",
   "metadata": {},
   "outputs": [],
   "source": [
    "img = filtered_img(np.array(df.iloc[3])).reshape([1,1,28,28])*10\n",
    "# print(img)\n",
    "image = img.reshape([28,28])\n",
    "# from matplotlib import pyplot as plt\n",
    "# plt.imshow(img, interpolation='nearest')\n",
    "# plt.show()\n",
    "\n",
    "img = torch.tensor(img,dtype=torch.float)"
   ]
  },
  {
   "cell_type": "code",
   "execution_count": 64,
   "id": "70fbe9bb",
   "metadata": {},
   "outputs": [
    {
     "data": {
      "text/plain": [
       "tensor([[ -8.8243, -16.3682,  -5.2371,  -2.8018,  -7.7351,  -6.3404, -13.2637,\n",
       "          -1.5350,  -5.6310,   4.6478]], grad_fn=<AddmmBackward0>)"
      ]
     },
     "execution_count": 64,
     "metadata": {},
     "output_type": "execute_result"
    }
   ],
   "source": [
    "model(img)"
   ]
  },
  {
   "cell_type": "code",
   "execution_count": 11,
   "id": "6de0f479",
   "metadata": {},
   "outputs": [],
   "source": [
    "# import matplotlib.pyplot as plt"
   ]
  },
  {
   "cell_type": "code",
   "execution_count": 11,
   "id": "212e6cb6",
   "metadata": {},
   "outputs": [],
   "source": [
    "import cv2 as cv"
   ]
  },
  {
   "cell_type": "code",
   "execution_count": 65,
   "id": "cabac5ef",
   "metadata": {},
   "outputs": [
    {
     "data": {
      "text/plain": [
       "True"
      ]
     },
     "execution_count": 65,
     "metadata": {},
     "output_type": "execute_result"
    }
   ],
   "source": [
    "cv.imwrite('number.png',image)"
   ]
  },
  {
   "cell_type": "code",
   "execution_count": 69,
   "id": "6a13e353",
   "metadata": {},
   "outputs": [],
   "source": [
    "# from PIL import Image"
   ]
  },
  {
   "cell_type": "code",
   "execution_count": 66,
   "id": "880f4682",
   "metadata": {},
   "outputs": [],
   "source": [
    "img_ = cv.imread('number.png')"
   ]
  },
  {
   "cell_type": "code",
   "execution_count": 67,
   "id": "0b714c00",
   "metadata": {},
   "outputs": [
    {
     "data": {
      "text/plain": [
       "-1"
      ]
     },
     "execution_count": 67,
     "metadata": {},
     "output_type": "execute_result"
    }
   ],
   "source": [
    "cv.imshow('number',img_)\n",
    "cv.waitKey(0)"
   ]
  },
  {
   "cell_type": "code",
   "execution_count": 17,
   "id": "7a3c0f9d",
   "metadata": {},
   "outputs": [
    {
     "data": {
      "text/plain": [
       "'\\n3\\n'"
      ]
     },
     "execution_count": 17,
     "metadata": {},
     "output_type": "execute_result"
    }
   ],
   "source": [
    "'''\n",
    "3\n",
    "'''"
   ]
  },
  {
   "cell_type": "code",
   "execution_count": 18,
   "id": "19d5f5c4",
   "metadata": {},
   "outputs": [],
   "source": [
    "df1 = pd.read_csv('train.csv')\n",
    "y_train = df1[\"number\"].iloc[0:41280]\n",
    "x_train = df1.drop(columns='number').iloc[0:41280]\n",
    "y_test = df1[\"number\"].iloc[41280::]\n",
    "x_test = df1.drop(columns='number').iloc[41280::]\n",
    "loss_fn = nn.CrossEntropyLoss()"
   ]
  },
  {
   "cell_type": "code",
   "execution_count": 80,
   "id": "0eb34939",
   "metadata": {},
   "outputs": [],
   "source": [
    "submissions = pd.read_csv('sample_submission.csv',index_col='ImageId')"
   ]
  },
  {
   "cell_type": "code",
   "execution_count": 81,
   "id": "c8faf5d7",
   "metadata": {},
   "outputs": [],
   "source": [
    "df = pd.read_csv('test.csv')"
   ]
  },
  {
   "cell_type": "code",
   "execution_count": 82,
   "id": "6fe36313",
   "metadata": {},
   "outputs": [],
   "source": [
    "X = torch.tensor(np.array(df).reshape([28000,1,28,28]),dtype=torch.float)*(10)\n",
    "Y = model(X)"
   ]
  },
  {
   "cell_type": "code",
   "execution_count": 83,
   "id": "db01398e",
   "metadata": {},
   "outputs": [
    {
     "name": "stdout",
     "output_type": "stream",
     "text": [
      "torch.Size([28000])\n"
     ]
    }
   ],
   "source": [
    "Y = Y.argmax(dim=1)\n",
    "print(Y.shape)"
   ]
  },
  {
   "cell_type": "code",
   "execution_count": 84,
   "id": "bb9595a8",
   "metadata": {},
   "outputs": [
    {
     "name": "stdout",
     "output_type": "stream",
     "text": [
      "(28000,)\n"
     ]
    }
   ],
   "source": [
    "Y = Y.numpy()\n",
    "print(Y.shape)"
   ]
  },
  {
   "cell_type": "code",
   "execution_count": 85,
   "id": "6f6c762a",
   "metadata": {},
   "outputs": [],
   "source": [
    "for i in range (28000):\n",
    "    submissions.iloc[i] = Y[i]"
   ]
  },
  {
   "cell_type": "code",
   "execution_count": 86,
   "id": "e05cf8ca",
   "metadata": {},
   "outputs": [
    {
     "name": "stdout",
     "output_type": "stream",
     "text": [
      "         Label\n",
      "ImageId       \n",
      "1            2\n",
      "2            0\n",
      "3            9\n",
      "4            9\n",
      "5            3\n",
      "...        ...\n",
      "27996        9\n",
      "27997        7\n",
      "27998        3\n",
      "27999        9\n",
      "28000        2\n",
      "\n",
      "[28000 rows x 1 columns]\n"
     ]
    }
   ],
   "source": [
    "print(submissions)"
   ]
  },
  {
   "cell_type": "code",
   "execution_count": 88,
   "id": "e5ccd27c",
   "metadata": {},
   "outputs": [],
   "source": [
    "submissions.to_csv('submission.csv')"
   ]
  },
  {
   "cell_type": "code",
   "execution_count": 19,
   "id": "a40a6fac",
   "metadata": {},
   "outputs": [
    {
     "name": "stdout",
     "output_type": "stream",
     "text": [
      "(720, 784)\n",
      "Accuracy: 99.02777777777779%\n"
     ]
    }
   ],
   "source": [
    "size = 720\n",
    "print(x_test.shape)\n",
    "with torch.no_grad():\n",
    "            X_test = torch.tensor(np.array(x_test).reshape([720,1,28,28]),dtype=torch.float)*(10)\n",
    "            y_test = torch.tensor(np.array(y_test),dtype=torch.int64)\n",
    "            Y_test = torch.nn.functional.one_hot(y_test, num_classes=10).type(torch.float)\n",
    "            pred = model(X_test)\n",
    "            test_loss = loss_fn(pred, Y_test).item()\n",
    "            correct = (pred.argmax(1) == y_test).type(torch.float).sum().item()\n",
    "            \n",
    "test_loss /= size\n",
    "correct /= size\n",
    "\n",
    "print(f\"Accuracy: {(100*correct)}%\")"
   ]
  }
 ],
 "metadata": {
  "kernelspec": {
   "display_name": "Python 3",
   "language": "python",
   "name": "python3"
  },
  "language_info": {
   "codemirror_mode": {
    "name": "ipython",
    "version": 3
   },
   "file_extension": ".py",
   "mimetype": "text/x-python",
   "name": "python",
   "nbconvert_exporter": "python",
   "pygments_lexer": "ipython3",
   "version": "3.8.8"
  }
 },
 "nbformat": 4,
 "nbformat_minor": 5
}
